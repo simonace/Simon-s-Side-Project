{
 "cells": [
  {
   "cell_type": "markdown",
   "metadata": {},
   "source": [
    "# 一个显示RGB颜色的小程序\n",
    "\n",
    "https://matplotlib.org/examples/shapes_and_collections/artist_reference.html"
   ]
  },
  {
   "cell_type": "code",
   "execution_count": 1,
   "metadata": {},
   "outputs": [
    {
     "data": {
      "application/vnd.jupyter.widget-view+json": {
       "model_id": "842f412a811343ffa790aace1cd3b91b",
       "version_major": 2,
       "version_minor": 0
      },
      "text/plain": [
       "A Jupyter Widget"
      ]
     },
     "metadata": {},
     "output_type": "display_data"
    },
    {
     "data": {
      "text/plain": [
       "<function __main__.f>"
      ]
     },
     "execution_count": 1,
     "metadata": {},
     "output_type": "execute_result"
    }
   ],
   "source": [
    "import ipywidgets as widgets\n",
    "import matplotlib.pyplot as plt\n",
    "import matplotlib.patches as mpatches\n",
    "\n",
    "r = widgets.IntSlider(value=0, min=0, max=255,step=1, readout=True, readout_format=\"x\")\n",
    "g = widgets.IntSlider(value=0, min=0, max=255,step=1, readout=True, readout_format=\"x\")\n",
    "b = widgets.IntSlider(value=0, min=0, max=255,step=1, readout=True, readout_format=\"x\")\n",
    "\n",
    "\n",
    "def f(r, g, b):\n",
    "    r_hex = hex(r)[2:] if r>15 else \"0\"+ hex(r)[2:]\n",
    "    g_hex = hex(g)[2:] if g>15 else \"0\"+ hex(g)[2:]\n",
    "    b_hex = hex(b)[2:] if b>15 else \"0\"+ hex(b)[2:]\n",
    "    rgb = \"#\" + r_hex + g_hex + b_hex    \n",
    "    print(rgb)\n",
    "    fig, ax = plt.subplots()\n",
    "    circle = mpatches.Circle([0.5,0.5], 0.5, ec=\"none\", color=rgb)\n",
    "    ax.add_patch(circle)\n",
    "    plt.axis('equal')\n",
    "    plt.axis('off')\n",
    "    plt.show()\n",
    "\n",
    "    \n",
    "    \n",
    "    \n",
    "widgets.interact(f, r=r, g=g, b=b)"
   ]
  },
  {
   "cell_type": "code",
   "execution_count": null,
   "metadata": {
    "collapsed": true
   },
   "outputs": [],
   "source": []
  }
 ],
 "metadata": {
  "kernelspec": {
   "display_name": "Python 3",
   "language": "python",
   "name": "python3"
  },
  "language_info": {
   "codemirror_mode": {
    "name": "ipython",
    "version": 3
   },
   "file_extension": ".py",
   "mimetype": "text/x-python",
   "name": "python",
   "nbconvert_exporter": "python",
   "pygments_lexer": "ipython3",
   "version": "3.6.3"
  }
 },
 "nbformat": 4,
 "nbformat_minor": 2
}

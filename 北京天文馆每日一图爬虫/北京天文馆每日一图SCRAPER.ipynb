{
 "cells": [
  {
   "cell_type": "markdown",
   "metadata": {},
   "source": [
    "# Import"
   ]
  },
  {
   "cell_type": "code",
   "execution_count": 1,
   "metadata": {
    "collapsed": true
   },
   "outputs": [],
   "source": [
    "import urllib.request\n",
    "import datetime"
   ]
  },
  {
   "cell_type": "markdown",
   "metadata": {},
   "source": [
    "# defs"
   ]
  },
  {
   "cell_type": "code",
   "execution_count": 13,
   "metadata": {
    "collapsed": true
   },
   "outputs": [],
   "source": [
    "def findUrlByDate(raw_html_data, year, month, day):\n",
    "    target_string = \"<a href=\\'/art/\" + str(year) + \"/\" + str(month) + \"/\" + str(day) + \"/art\"\n",
    "    if raw_html_data.find(target_string)>-1:\n",
    "        i1 = raw_html_data.index(target_string) # find target index\n",
    "        i2 = raw_html_data[i1:].index(\"'\")\n",
    "        i3 = raw_html_data[i1+i2+1:].index(\"'\")\n",
    "        return \"http://www.bjp.org.cn\" + raw_html_data[i1+i2+1:i1+i2+i3+1]\n",
    "    else:\n",
    "        return \"ERROR\"\n",
    "\n",
    "def trimHtmlMakeup(raw_html_data):\n",
    "    trimed_data = raw_html_data\n",
    "    i1 = trimed_data.find('<')\n",
    "    i2 = trimed_data.find('>')\n",
    "    while (i1>-1 and i2>-1):\n",
    "        trimed_data = trimed_data[:i1] + trimed_data[i2+1:]\n",
    "        i1 = trimed_data.find('<')\n",
    "        i2 = trimed_data.find('>')\n",
    "    return trimed_data\n",
    "\n",
    "def findTitleAndIntro(raw_html_data):\n",
    "    if raw_html_data.find(\"<title>\")>-1:\n",
    "        i1 = raw_html_data.index(\"<title>\")\n",
    "        i2 = raw_html_data.index(\"</title>\")\n",
    "        title = raw_html_data[i1+7:i2]\n",
    "    else:\n",
    "        i1 = raw_html_data.index(\"<strong>\")\n",
    "        i2 = raw_html_data.index(\"</strong>\")\n",
    "        title = raw_html_data[i1+8:i2]\n",
    "    i3 = raw_html_data[i2+1:].find(\"<strong>说明：</strong>\")\n",
    "    i4 = raw_html_data[i2+1+i3:].find('</p><p style=\\\"text-align: center;\\\">')\n",
    "    raw_intro = raw_html_data[i2+1+i3:i2+1+i3+i4]\n",
    "    trimed_intro = trimHtmlMakeup(raw_intro)\n",
    "    return title,trimed_intro\n",
    "\n",
    "def findImageUrl(raw_html_data):\n",
    "    i5 = raw_html_data.find(\"<a href=\\\"/picture/\")\n",
    "    if i5>-1:\n",
    "        i6 = raw_html_data[i5:].index('\"')\n",
    "        i7 = raw_html_data[i5+i6+1:].index('\"')\n",
    "        return \"http://www.bjp.org.cn\" + raw_html_data[i5+i6+1:i5+i6+i7+1]\n",
    "    else:\n",
    "        return \"ERROR\""
   ]
  },
  {
   "cell_type": "markdown",
   "metadata": {},
   "source": [
    "# parameters\n",
    "\n",
    "#### DAYS_TO_RETRIEVE: total days back from today to retrieve their pics"
   ]
  },
  {
   "cell_type": "code",
   "execution_count": 7,
   "metadata": {
    "collapsed": true
   },
   "outputs": [],
   "source": [
    "DAYS_TO_RETRIEVE = 30"
   ]
  },
  {
   "cell_type": "markdown",
   "metadata": {},
   "source": [
    "# Main\n",
    "\n",
    "### use \"Cell -> Current Outputs -> Toggle Scrolling\" to expand the output window"
   ]
  },
  {
   "cell_type": "code",
   "execution_count": 14,
   "metadata": {
    "scrolled": false
   },
   "outputs": [
    {
     "data": {
      "application/vnd.jupyter.widget-view+json": {
       "model_id": "dff185fc692d4fe3ad483ee7ad6ae6f2",
       "version_major": 2,
       "version_minor": 0
      },
      "text/plain": [
       "A Jupyter Widget"
      ]
     },
     "metadata": {},
     "output_type": "display_data"
    }
   ],
   "source": [
    "import ipywidgets as widgets\n",
    "f = urllib.request.urlopen('http://www.bjp.org.cn/col/col89/index.html')\n",
    "readIn = f.read().decode('utf-8')\n",
    "\n",
    "yesterday = datetime.date.today() + datetime.timedelta(days=-1)\n",
    "out_vbox_list = []\n",
    "for i in range(DAYS_TO_RETRIEVE):\n",
    "    date_inst = yesterday + datetime.timedelta(days=int(-1*i))\n",
    "    solo_image_page_url = findUrlByDate(readIn, date_inst.year, date_inst.month, date_inst.day)\n",
    "    if solo_image_page_url != \"ERROR\":\n",
    "        solo_image_page = urllib.request.urlopen(solo_image_page_url)\n",
    "        rrr = solo_image_page.read().decode('utf-8')\n",
    "        title, intro = findTitleAndIntro(rrr)\n",
    "        title_output = widgets.Output(layout={'border': '2px solid black'})\n",
    "        with title_output:\n",
    "            print(str(date_inst.year) + \"-\" + str(date_inst.month) + \"-\" + str(date_inst.day) + \"  \" + title)\n",
    "        intro_output = widgets.Output()\n",
    "        with intro_output:\n",
    "            print(intro)\n",
    "            print('\\n'*3)\n",
    "        jpeg_url = findImageUrl(rrr)\n",
    "        if jpeg_url !=\"ERROR\":\n",
    "            image_url = urllib.request.urlopen(jpeg_url)\n",
    "            image = image_url.read()\n",
    "            pic = widgets.Image(value=image, format='jpeg')\n",
    "        else:\n",
    "            pic = widgets.Output()\n",
    "            with pic:\n",
    "                print(str(date_inst.year) + \"-\" + str(date_inst.month) + \"-\" + str(date_inst.day) + \"  There is no image retrieved on this day.\")\n",
    "        out_vbox_list.append(title_output)\n",
    "        out_vbox_list.append(pic)\n",
    "        out_vbox_list.append(intro_output)\n",
    "    else:\n",
    "        error_output = widgets.Output(layout={'border': '2px solid black'})\n",
    "        with error_output:\n",
    "            print(str(date_inst.year) + \"-\" + str(date_inst.month) + \"-\" + str(date_inst.day) + \"  There is no image retrieved on this day.\")\n",
    "        blank_output = widgets.Output()\n",
    "        with blank_output:\n",
    "            print('\\n'*3)\n",
    "        out_vbox_list.append(error_output)\n",
    "        out_vbox_list.append(blank_output)\n",
    "        \n",
    "out_vbox = widgets.VBox(out_vbox_list)\n",
    "display(out_vbox)"
   ]
  },
  {
   "cell_type": "code",
   "execution_count": null,
   "metadata": {
    "collapsed": true,
    "scrolled": true
   },
   "outputs": [],
   "source": []
  }
 ],
 "metadata": {
  "kernelspec": {
   "display_name": "Python 3",
   "language": "python",
   "name": "python3"
  },
  "language_info": {
   "codemirror_mode": {
    "name": "ipython",
    "version": 3
   },
   "file_extension": ".py",
   "mimetype": "text/x-python",
   "name": "python",
   "nbconvert_exporter": "python",
   "pygments_lexer": "ipython3",
   "version": "3.6.3"
  }
 },
 "nbformat": 4,
 "nbformat_minor": 2
}
